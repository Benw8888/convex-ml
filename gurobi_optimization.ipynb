{
 "cells": [
  {
   "cell_type": "code",
   "execution_count": 1,
   "metadata": {},
   "outputs": [],
   "source": [
    "import torch\n",
    "import torch.nn as nn\n",
    "import numpy as np\n",
    "import torchvision\n",
    "import torchvision.datasets as datasets\n",
    "import torchvision.transforms as transforms\n",
    "import torch.utils.data as data_utils\n",
    "from ucimlrepo import fetch_ucirepo\n",
    "from torch.utils.data import DataLoader\n",
    "from model import WideModel\n",
    "from tqdm.auto import tqdm"
   ]
  },
  {
   "cell_type": "code",
   "execution_count": 2,
   "metadata": {},
   "outputs": [
    {
     "name": "stderr",
     "output_type": "stream",
     "text": [
      "/var/folders/jc/96rhddjx1b77w_4r1x86flk80000gn/T/ipykernel_58768/2578780564.py:10: SettingWithCopyWarning: \n",
      "A value is trying to be set on a copy of a slice from a DataFrame.\n",
      "Try using .loc[row_indexer,col_indexer] = value instead\n",
      "\n",
      "See the caveats in the documentation: https://pandas.pydata.org/pandas-docs/stable/user_guide/indexing.html#returning-a-view-versus-a-copy\n",
      "  y[\"Diagnosis\"] = y[\"Diagnosis\"].map({\"M\": 1, \"B\": 0})\n"
     ]
    }
   ],
   "source": [
    "# load dataset\n",
    "# pip install ucimlrepo\n",
    "\n",
    "# fetch dataset \n",
    "breast_cancer_wisconsin_diagnostic = fetch_ucirepo(id=17) \n",
    "  \n",
    "# data (as pandas dataframes) \n",
    "X = torch.tensor(breast_cancer_wisconsin_diagnostic.data.features.values, dtype=torch.float32)\n",
    "y = breast_cancer_wisconsin_diagnostic.data.targets\n",
    "y[\"Diagnosis\"] = y[\"Diagnosis\"].map({\"M\": 1, \"B\": 0})\n",
    "y = torch.tensor(y.values, dtype=torch.float32)\n",
    "\n",
    "train = data_utils.TensorDataset(X[:455], y[:455])\n",
    "test = data_utils.TensorDataset(X[455:], y[455:])"
   ]
  },
  {
   "cell_type": "code",
   "execution_count": 3,
   "metadata": {},
   "outputs": [],
   "source": [
    "\n",
    "# transform = transforms.Compose([\n",
    "#     transforms.ToTensor(),\n",
    "#     transforms.Normalize((0,), (1,))  # Normalize with mean and std for MNIST\n",
    "# ])\n",
    "\n",
    "# mnist_trainset = datasets.MNIST(root='./data', train=True, download=True, transform=transform)\n",
    "# mnist_testset = datasets.MNIST(root='./data', train=False, download=True, transform=transform)\n"
   ]
  },
  {
   "cell_type": "code",
   "execution_count": 4,
   "metadata": {},
   "outputs": [],
   "source": [
    "# create dataloaders. Batch size must be 1\n",
    "batch_size = 1\n",
    "train_dataloader = DataLoader(train, batch_size=batch_size, shuffle=True)\n",
    "test_dataloader = DataLoader(test, batch_size=batch_size, shuffle=True)"
   ]
  },
  {
   "cell_type": "code",
   "execution_count": 5,
   "metadata": {},
   "outputs": [
    {
     "name": "stdout",
     "output_type": "stream",
     "text": [
      "using device cpu\n"
     ]
    }
   ],
   "source": [
    "# create device\n",
    "dev = \"cuda\" if torch.cuda.is_available() else \"cpu\"\n",
    "print(\"using device\", dev)\n",
    "\n",
    "# create model\n",
    "model = WideModel(input_dim=30,hidden_dim_scale = 20, output_dim=1).to(dev)\n",
    "\n",
    "# create optimizer\n",
    "lr = 1e-3\n",
    "optimizer = torch.optim.SGD([p for p in model.parameters()], lr=lr)"
   ]
  },
  {
   "cell_type": "code",
   "execution_count": 6,
   "metadata": {},
   "outputs": [
    {
     "data": {
      "application/vnd.jupyter.widget-view+json": {
       "model_id": "9bbc8d4bed8f4e74b7d82b2d8d7b8e48",
       "version_major": 2,
       "version_minor": 0
      },
      "text/plain": [
       "  0%|          | 0/455 [00:00<?, ?it/s]"
      ]
     },
     "metadata": {},
     "output_type": "display_data"
    }
   ],
   "source": [
    "# get linearized models:\n",
    "# we reduce f(x,w) to Aw+B, where there is a different A,B per x\n",
    "\n",
    "As = []\n",
    "Bs = []\n",
    "ys = []\n",
    "\n",
    "for x,y in tqdm(train_dataloader):\n",
    "    x = x.to(dev)\n",
    "    \n",
    "    # A = gradient matrix of logits\n",
    "    A = model.flatten_gradient(x)\n",
    "    \n",
    "    # B = f(x,w) - A w\n",
    "    B = model.forward(x) - A @ model.flatten_parameters()\n",
    "    \n",
    "    As.append(A.detach().cpu().numpy())\n",
    "    Bs.append(B.detach().cpu().numpy())\n",
    "    ys.append(y.detach().cpu().numpy())\n",
    "    "
   ]
  },
  {
   "cell_type": "code",
   "execution_count": null,
   "metadata": {},
   "outputs": [],
   "source": []
  }
 ],
 "metadata": {
  "kernelspec": {
   "display_name": "Python 3",
   "language": "python",
   "name": "python3"
  },
  "language_info": {
   "codemirror_mode": {
    "name": "ipython",
    "version": 3
   },
   "file_extension": ".py",
   "mimetype": "text/x-python",
   "name": "python",
   "nbconvert_exporter": "python",
   "pygments_lexer": "ipython3",
   "version": "3.10.8"
  },
  "orig_nbformat": 4
 },
 "nbformat": 4,
 "nbformat_minor": 2
}
