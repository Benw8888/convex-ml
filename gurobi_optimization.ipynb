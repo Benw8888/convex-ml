{
 "cells": [
  {
   "cell_type": "code",
   "execution_count": null,
   "metadata": {},
   "outputs": [],
   "source": [
    "import torch\n",
    "import torch.nn as nn\n",
    "import numpy as np\n",
    "import torchvision\n",
    "import torchvision.datasets as datasets\n",
    "import torchvision.transforms as transforms\n",
    "from torch.utils.data import DataLoader\n",
    "from model import WideModel\n",
    "from tqdm.auto import tqdm"
   ]
  },
  {
   "cell_type": "code",
   "execution_count": null,
   "metadata": {},
   "outputs": [],
   "source": [
    "# load dataset\n",
    "transform = transforms.Compose([\n",
    "    transforms.ToTensor(),\n",
    "    transforms.Normalize((0,), (1,))  # Normalize with mean and std for MNIST\n",
    "])\n",
    "\n",
    "mnist_trainset = datasets.MNIST(root='./data', train=True, download=True, transform=transform)\n",
    "mnist_testset = datasets.MNIST(root='./data', train=False, download=True, transform=transform)\n"
   ]
  },
  {
   "cell_type": "code",
   "execution_count": null,
   "metadata": {},
   "outputs": [],
   "source": [
    "# create dataloaders. Batch size must be 1\n",
    "batch_size = 1\n",
    "train_dataloader = DataLoader(mnist_trainset, batch_size=batch_size, shuffle=True)\n",
    "test_dataloader = DataLoader(mnist_testset, batch_size=batch_size, shuffle=True)"
   ]
  },
  {
   "cell_type": "code",
   "execution_count": null,
   "metadata": {},
   "outputs": [],
   "source": [
    "# create device\n",
    "dev = \"cuda\" if torch.cuda.is_available() else \"cpu\"\n",
    "\n",
    "# create model\n",
    "model = WideModel(hidden_dim_scale = 20).to(dev)\n",
    "\n",
    "# create optimizer\n",
    "lr = 1e-3\n",
    "optimizer = torch.optim.SGD([p for p in model.parameters()], lr=lr)"
   ]
  },
  {
   "cell_type": "code",
   "execution_count": null,
   "metadata": {},
   "outputs": [],
   "source": [
    "# get linearized models:\n",
    "# we reduce f(x,w) to Aw+B, where there is a different A,B per x\n",
    "\n",
    "As = []\n",
    "Bs = []\n",
    "ys = []\n",
    "\n",
    "for x,y in tqdm(train_dataloader):\n",
    "    x = x.to(dev)\n",
    "    \n",
    "    # A = gradient matrix of logits\n",
    "    A = model.flatten_gradient(x)\n",
    "    \n",
    "    # B = f(x,w) - A w\n",
    "    B = model.forward(x) - A @ model.flatten_parameters()\n",
    "    \n",
    "    As.append(A.detach().cpu().numpy())\n",
    "    Bs.append(B.detach().cpu().numpy())\n",
    "    ys.append(y.detach().cpu().numpy())\n",
    "    "
   ]
  },
  {
   "cell_type": "code",
   "execution_count": null,
   "metadata": {},
   "outputs": [],
   "source": []
  }
 ],
 "metadata": {
  "kernelspec": {
   "display_name": "Python 3",
   "language": "python",
   "name": "python3"
  },
  "language_info": {
   "codemirror_mode": {
    "name": "ipython",
    "version": 3
   },
   "file_extension": ".py",
   "mimetype": "text/x-python",
   "name": "python",
   "nbconvert_exporter": "python",
   "pygments_lexer": "ipython3",
   "version": "3.10.8"
  },
  "orig_nbformat": 4
 },
 "nbformat": 4,
 "nbformat_minor": 2
}
