{
 "cells": [
  {
   "cell_type": "code",
   "execution_count": null,
   "metadata": {},
   "outputs": [],
   "source": [
    "# inputs A = (60000 x 10 x P) and biases B = (60000 x 10) for each digit\n",
    "# labels: 60000 x 10\n"
   ]
  },
  {
   "cell_type": "code",
   "execution_count": 1,
   "metadata": {},
   "outputs": [],
   "source": [
    "# import libraries\n",
    "\n",
    "import numpy as np\n",
    "import matplotlib.pyplot as plt\n",
    "import gurobipy as gp"
   ]
  },
  {
   "cell_type": "code",
   "execution_count": 2,
   "metadata": {},
   "outputs": [],
   "source": [
    "from gurobipy import Model, GRB\n"
   ]
  },
  {
   "cell_type": "code",
   "execution_count": 10,
   "metadata": {},
   "outputs": [],
   "source": [
    "model = Model(\"convex_linearized_model\")\n",
    "#sam's comment\n",
    "#for now\n",
    "n = 60000 #number of training examples\n",
    "l = 10 #number of labels\n",
    "z = model.addVars(60000, 10, vtype=GRB.CONTINUOUS, name=\"myVar\")\n",
    "w = []  # List to store the created variables``\n",
    "\n",
    "for i in range(p):\n",
    "    var = model.addVar(vtype=GRB.CONTINUOUS, name=f\"weight_{i}\")\n",
    "    w.append(var) # the only actual decision variables, aka the model parameters\n",
    "\n",
    "z = np.zeros(n,l) #stores the outputs of the linearized model\n",
    "for i in range(n):\n",
    "    for j in range(l):\n",
    "        var = model.addVar(vtype=GRB.CONTINUOUS, name=f\"z{i}_{j}\")\n",
    "        z[i,j] = var\n",
    "        model.addConstrs(z[i,j] = sum(A[i,j,k]*w[k] for k in range(p)) + B[i,j] for j in range(10))# z = Aw + B\n",
    "\n",
    "exp_z = np.zeros(n,l)# exp_z = exp(z)\n",
    "\n",
    "for i in range(n):\n",
    "    for j in range(l):\n",
    "        var = model.addVar(vtype=GRB.CONTINUOUS, name=f\"exp{i}_{j}\")\n",
    "        exp_z[i,j] = var\n",
    "        model.addGenConstrExp(z[i,j], exp_z[i,j])\n",
    "\n",
    "denominators = np.zeros(n) #denominators = sum(exp_z)\n",
    "soft_maxed = np.zeros(n,l) #soft_maxed = exp_z/denominators\n",
    "for i in range(n):\n",
    "    model.addVar(vtype=GRB.CONTINUOUS, name=f\"denom{i}\")\n",
    "    denominators[i] = var\n",
    "    model.addConstr(var = sum(exp_z[i,j] for j in range(l)))\n",
    "    for j in range(l):\n",
    "        var = model.addVar(vtype=GRB.CONTINUOUS, name=f\"soft_maxed{i}_{j}\")\n",
    "        soft_maxed[i,j] = var\n",
    "        model.addConstr(var * demominators[i] = exp_z[i,j])\n",
    "\n",
    "nll = np.zeros(n) #nll = -log(soft_maxed)\n",
    "for i in range(n):\n",
    "    j = labels[i]\n",
    "    var = model.addVar(vtype=GRB.CONTINUOUS, name=f\"nll{i}\")\n",
    "    nll[i] = var\n",
    "    model.addGenConstrLog(soft_maxed[i,j], nll[i])\n",
    "\n",
    "model.setObjective(sum(nll[i] for i in range(n)), GRB.MAXIMIZE)\n"
   ]
  }
 ],
 "metadata": {
  "kernelspec": {
   "display_name": "einops",
   "language": "python",
   "name": "python3"
  },
  "language_info": {
   "codemirror_mode": {
    "name": "ipython",
    "version": 3
   },
   "file_extension": ".py",
   "mimetype": "text/x-python",
   "name": "python",
   "nbconvert_exporter": "python",
   "pygments_lexer": "ipython3",
   "version": "3.11.0"
  }
 },
 "nbformat": 4,
 "nbformat_minor": 2
}
